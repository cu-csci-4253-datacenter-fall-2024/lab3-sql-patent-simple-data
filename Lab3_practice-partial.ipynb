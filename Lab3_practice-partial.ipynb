{
 "cells": [
  {
   "cell_type": "code",
   "execution_count": 1,
   "id": "1af57163-9a10-4405-ba0d-63246278fa70",
   "metadata": {},
   "outputs": [],
   "source": [
    "%%bash\n",
    "if test -f patents_db.sq3; then\n",
    "  rm patents_db.sq3\n",
    "fi\n",
    "cat citations_short.csv | sqlite3 patents_db.sq3 \".mode csv\" \".import /dev/stdin citations\"\n",
    "cat patents_short.csv | sqlite3 patents_db.sq3 \".mode csv\" \".import /dev/stdin patents\""
   ]
  },
  {
   "cell_type": "code",
   "execution_count": 2,
   "id": "6cd71b9e-a3bd-478d-a801-bebd4de28332",
   "metadata": {},
   "outputs": [
    {
     "data": {
      "text/plain": [
       "'Connected: @patents_db.sq3'"
      ]
     },
     "execution_count": 2,
     "metadata": {},
     "output_type": "execute_result"
    }
   ],
   "source": [
    "%load_ext sql\n",
    "%sql sqlite:///patents_db.sq3\n"
   ]
  },
  {
   "cell_type": "code",
   "execution_count": 6,
   "id": "3ba378b6-158a-4b62-ac45-04803ee0238d",
   "metadata": {},
   "outputs": [
    {
     "name": "stdout",
     "output_type": "stream",
     "text": [
      " * sqlite:///patents_db.sq3\n",
      "Done.\n"
     ]
    },
    {
     "data": {
      "text/html": [
       "<table>\n",
       "    <thead>\n",
       "        <tr>\n",
       "            <th>PATENT</th>\n",
       "            <th>APPYEAR</th>\n",
       "            <th>POSTATE</th>\n",
       "        </tr>\n",
       "    </thead>\n",
       "    <tbody>\n",
       "        <tr>\n",
       "            <td>111</td>\n",
       "            <td>2000</td>\n",
       "            <td>CO</td>\n",
       "        </tr>\n",
       "        <tr>\n",
       "            <td>222</td>\n",
       "            <td>2001</td>\n",
       "            <td>TX</td>\n",
       "        </tr>\n",
       "        <tr>\n",
       "            <td>333</td>\n",
       "            <td>2002</td>\n",
       "            <td>CO</td>\n",
       "        </tr>\n",
       "        <tr>\n",
       "            <td>444</td>\n",
       "            <td>2003</td>\n",
       "            <td>PA</td>\n",
       "        </tr>\n",
       "        <tr>\n",
       "            <td>555</td>\n",
       "            <td>2004</td>\n",
       "            <td>CO</td>\n",
       "        </tr>\n",
       "        <tr>\n",
       "            <td>666</td>\n",
       "            <td>2005</td>\n",
       "            <td>PA</td>\n",
       "        </tr>\n",
       "    </tbody>\n",
       "</table>"
      ],
      "text/plain": [
       "[('111', '2000', 'CO'),\n",
       " ('222', '2001', 'TX'),\n",
       " ('333', '2002', 'CO'),\n",
       " ('444', '2003', 'PA'),\n",
       " ('555', '2004', 'CO'),\n",
       " ('666', '2005', 'PA')]"
      ]
     },
     "execution_count": 6,
     "metadata": {},
     "output_type": "execute_result"
    }
   ],
   "source": [
    "%%sql\n",
    "SELECT * from patents as p;"
   ]
  },
  {
   "cell_type": "code",
   "execution_count": 7,
   "id": "2c7b6cc1-c257-442f-a26d-ee906b500f25",
   "metadata": {},
   "outputs": [
    {
     "name": "stdout",
     "output_type": "stream",
     "text": [
      " * sqlite:///patents_db.sq3\n",
      "Done.\n"
     ]
    },
    {
     "data": {
      "text/html": [
       "<table>\n",
       "    <thead>\n",
       "        <tr>\n",
       "            <th>CITING</th>\n",
       "            <th>CITED</th>\n",
       "        </tr>\n",
       "    </thead>\n",
       "    <tbody>\n",
       "        <tr>\n",
       "            <td>111</td>\n",
       "            <td>222</td>\n",
       "        </tr>\n",
       "        <tr>\n",
       "            <td>111</td>\n",
       "            <td>333</td>\n",
       "        </tr>\n",
       "        <tr>\n",
       "            <td>111</td>\n",
       "            <td>555</td>\n",
       "        </tr>\n",
       "        <tr>\n",
       "            <td>222</td>\n",
       "            <td>555</td>\n",
       "        </tr>\n",
       "        <tr>\n",
       "            <td>666</td>\n",
       "            <td>444</td>\n",
       "        </tr>\n",
       "        <tr>\n",
       "            <td>666</td>\n",
       "            <td>555</td>\n",
       "        </tr>\n",
       "    </tbody>\n",
       "</table>"
      ],
      "text/plain": [
       "[('111', '222'),\n",
       " ('111', '333'),\n",
       " ('111', '555'),\n",
       " ('222', '555'),\n",
       " ('666', '444'),\n",
       " ('666', '555')]"
      ]
     },
     "execution_count": 7,
     "metadata": {},
     "output_type": "execute_result"
    }
   ],
   "source": [
    "%%sql\n",
    "SELECT * from citations;\n"
   ]
  },
  {
   "cell_type": "code",
   "execution_count": 5,
   "id": "86e41511-de1f-4ccf-8ee8-ac124bea4733",
   "metadata": {},
   "outputs": [
    {
     "name": "stdout",
     "output_type": "stream",
     "text": [
      " * sqlite:///patents_db.sq3\n",
      "Done.\n"
     ]
    },
    {
     "data": {
      "text/html": [
       "<table>\n",
       "    <thead>\n",
       "        <tr>\n",
       "            <th>CITING</th>\n",
       "            <th>CITED</th>\n",
       "            <th>PATENT</th>\n",
       "            <th>APPYEAR</th>\n",
       "            <th>POSTATE</th>\n",
       "        </tr>\n",
       "    </thead>\n",
       "    <tbody>\n",
       "        <tr>\n",
       "            <td>111</td>\n",
       "            <td>222</td>\n",
       "            <td>111</td>\n",
       "            <td>2000</td>\n",
       "            <td>CO</td>\n",
       "        </tr>\n",
       "        <tr>\n",
       "            <td>111</td>\n",
       "            <td>333</td>\n",
       "            <td>111</td>\n",
       "            <td>2000</td>\n",
       "            <td>CO</td>\n",
       "        </tr>\n",
       "        <tr>\n",
       "            <td>111</td>\n",
       "            <td>555</td>\n",
       "            <td>111</td>\n",
       "            <td>2000</td>\n",
       "            <td>CO</td>\n",
       "        </tr>\n",
       "        <tr>\n",
       "            <td>222</td>\n",
       "            <td>555</td>\n",
       "            <td>222</td>\n",
       "            <td>2001</td>\n",
       "            <td>TX</td>\n",
       "        </tr>\n",
       "        <tr>\n",
       "            <td>666</td>\n",
       "            <td>444</td>\n",
       "            <td>666</td>\n",
       "            <td>2005</td>\n",
       "            <td>PA</td>\n",
       "        </tr>\n",
       "        <tr>\n",
       "            <td>666</td>\n",
       "            <td>555</td>\n",
       "            <td>666</td>\n",
       "            <td>2005</td>\n",
       "            <td>PA</td>\n",
       "        </tr>\n",
       "    </tbody>\n",
       "</table>"
      ],
      "text/plain": [
       "[('111', '222', '111', '2000', 'CO'),\n",
       " ('111', '333', '111', '2000', 'CO'),\n",
       " ('111', '555', '111', '2000', 'CO'),\n",
       " ('222', '555', '222', '2001', 'TX'),\n",
       " ('666', '444', '666', '2005', 'PA'),\n",
       " ('666', '555', '666', '2005', 'PA')]"
      ]
     },
     "execution_count": 5,
     "metadata": {},
     "output_type": "execute_result"
    }
   ],
   "source": [
    "%%sql\n",
    "SELECT * from citations c\n",
    "JOIN patents p1\n",
    "ON c.CITING==p1.PATENT\n"
   ]
  },
  {
   "cell_type": "code",
   "execution_count": 8,
   "id": "87930041-bea9-42c5-b1f3-780b421551e8",
   "metadata": {},
   "outputs": [
    {
     "name": "stdout",
     "output_type": "stream",
     "text": [
      " * sqlite:///patents_db.sq3\n",
      "Done.\n"
     ]
    },
    {
     "data": {
      "text/html": [
       "<table>\n",
       "    <thead>\n",
       "        <tr>\n",
       "            <th>PATENT</th>\n",
       "            <th>APPYEAR</th>\n",
       "            <th>POSTATE</th>\n",
       "            <th>CITING</th>\n",
       "            <th>CITED</th>\n",
       "        </tr>\n",
       "    </thead>\n",
       "    <tbody>\n",
       "        <tr>\n",
       "            <td>111</td>\n",
       "            <td>2000</td>\n",
       "            <td>CO</td>\n",
       "            <td>111</td>\n",
       "            <td>222</td>\n",
       "        </tr>\n",
       "        <tr>\n",
       "            <td>111</td>\n",
       "            <td>2000</td>\n",
       "            <td>CO</td>\n",
       "            <td>111</td>\n",
       "            <td>333</td>\n",
       "        </tr>\n",
       "        <tr>\n",
       "            <td>111</td>\n",
       "            <td>2000</td>\n",
       "            <td>CO</td>\n",
       "            <td>111</td>\n",
       "            <td>555</td>\n",
       "        </tr>\n",
       "        <tr>\n",
       "            <td>222</td>\n",
       "            <td>2001</td>\n",
       "            <td>TX</td>\n",
       "            <td>222</td>\n",
       "            <td>555</td>\n",
       "        </tr>\n",
       "        <tr>\n",
       "            <td>666</td>\n",
       "            <td>2005</td>\n",
       "            <td>PA</td>\n",
       "            <td>666</td>\n",
       "            <td>444</td>\n",
       "        </tr>\n",
       "        <tr>\n",
       "            <td>666</td>\n",
       "            <td>2005</td>\n",
       "            <td>PA</td>\n",
       "            <td>666</td>\n",
       "            <td>555</td>\n",
       "        </tr>\n",
       "    </tbody>\n",
       "</table>"
      ],
      "text/plain": [
       "[('111', '2000', 'CO', '111', '222'),\n",
       " ('111', '2000', 'CO', '111', '333'),\n",
       " ('111', '2000', 'CO', '111', '555'),\n",
       " ('222', '2001', 'TX', '222', '555'),\n",
       " ('666', '2005', 'PA', '666', '444'),\n",
       " ('666', '2005', 'PA', '666', '555')]"
      ]
     },
     "execution_count": 8,
     "metadata": {},
     "output_type": "execute_result"
    }
   ],
   "source": [
    "%%sql\n",
    "SELECT * from patents p1\n",
    "JOIN citations c\n",
    "ON p1.PATENT==c.CITING\n"
   ]
  },
  {
   "cell_type": "markdown",
   "id": "9918fd91-25e1-4737-bfe9-1c9a3b0e4b46",
   "metadata": {},
   "source": [
    "We'll stop before doing multiple joins.  But, use the below (and even the above) cells to play with SQL on a smaller dataset."
   ]
  },
  {
   "cell_type": "code",
   "execution_count": null,
   "id": "6fa3d5d6-e292-48e3-9ce8-0ec9e307d628",
   "metadata": {},
   "outputs": [],
   "source": []
  },
  {
   "cell_type": "code",
   "execution_count": null,
   "id": "ac1c317f-5d23-4666-8885-1c091f4f9c12",
   "metadata": {},
   "outputs": [],
   "source": []
  }
 ],
 "metadata": {
  "kernelspec": {
   "display_name": "Python 3 (ipykernel)",
   "language": "python",
   "name": "python3"
  },
  "language_info": {
   "codemirror_mode": {
    "name": "ipython",
    "version": 3
   },
   "file_extension": ".py",
   "mimetype": "text/x-python",
   "name": "python",
   "nbconvert_exporter": "python",
   "pygments_lexer": "ipython3",
   "version": "3.10.8"
  }
 },
 "nbformat": 4,
 "nbformat_minor": 5
}
